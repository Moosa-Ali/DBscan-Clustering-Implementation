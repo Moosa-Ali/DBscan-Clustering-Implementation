{
 "cells": [
  {
   "cell_type": "code",
   "execution_count": 19,
   "id": "tribal-magnet",
   "metadata": {},
   "outputs": [],
   "source": [
    "from sklearn.datasets import make_blobs\n",
    "import matplotlib.pyplot as plt\n",
    "import pandas as pd\n",
    "import numpy as np\n",
    "import random"
   ]
  },
  {
   "cell_type": "code",
   "execution_count": 2,
   "id": "lesser-stations",
   "metadata": {},
   "outputs": [
    {
     "data": {
      "text/plain": [
       "<matplotlib.collections.PathCollection at 0x18c06513550>"
      ]
     },
     "execution_count": 2,
     "metadata": {},
     "output_type": "execute_result"
    },
    {
     "data": {
      "image/png": "[encoded data removed]",
      "text/plain": [
       "<Figure size 432x288 with 1 Axes>"
      ]
     },
     "metadata": {
      "needs_background": "light"
     },
     "output_type": "display_data"
    }
   ],
   "source": [
    "centers = [(0, 4), (5, 5) , (8,4.4)]\n",
    "cluster_std = [1.2, 1, 1.1]\n",
    "\n",
    "X, y= make_blobs(n_samples=100, cluster_std=cluster_std, centers=centers, n_features=2, random_state=1)\n",
    "\n",
    "plt.scatter(X[y == 0, 0], X[y == 0, 1], s=10, label=\"Cluster1\")\n",
    "plt.scatter(X[y == 1, 0], X[y == 1, 1], s=10, label=\"Cluster2\")\n",
    "plt.scatter(X[y == 2, 0], X[y == 2, 1], s=10, label=\"Cluster3\")"
   ]
  },
  {
   "cell_type": "code",
   "execution_count": 3,
   "id": "historical-printing",
   "metadata": {
    "scrolled": true
   },
   "outputs": [
    {
     "data": {
      "text/plain": [
       "<matplotlib.collections.PathCollection at 0x18c095c5a00>"
      ]
     },
     "execution_count": 3,
     "metadata": {},
     "output_type": "execute_result"
    },
    {
     "data": {
      "image/png": "[encoded data removed]",
      "text/plain": [
       "<Figure size 432x288 with 1 Axes>"
      ]
     },
     "metadata": {
      "needs_background": "light"
     },
     "output_type": "display_data"
    }
   ],
   "source": [
    "plt.scatter(X[:,0],X[:,1])"
   ]
  },
  {
   "cell_type": "code",
   "execution_count": null,
   "id": "consolidated-tongue",
   "metadata": {},
   "outputs": [],
   "source": []
  },
  {
   "cell_type": "code",
   "execution_count": 5,
   "id": "quantitative-syria",
   "metadata": {
    "scrolled": true
   },
   "outputs": [],
   "source": []
  },
  {
   "cell_type": "code",
   "execution_count": 52,
   "id": "effective-committee",
   "metadata": {},
   "outputs": [],
   "source": [
    "def check_core_point(x,y,eps,minPts, df, index):\n",
    "    \n",
    "    data.at[index,'visited'] = True\n",
    "    \n",
    "    #check available points within radius\n",
    "    temp =  df[(np.abs(x - df['X']) <= eps) & (np.abs(y - df['Y']) <= eps)]\n",
    "    \n",
    "    #check how many points are present within radius\n",
    "    if len(temp) >= minPts:\n",
    "        #return format (dataframe, is_core, is_border, is_noise)\n",
    "        return (temp , True, False, False)\n",
    "    \n",
    "    elif (len(temp) < minPts) and len(temp) > 1:\n",
    "        #return format (dataframe, is_core, is_border, is_noise)\n",
    "        return (temp , False, True, False)\n",
    "    \n",
    "    elif len(temp) == 1:\n",
    "        #return format (dataframe, is_core, is_border, is_noise)\n",
    "        return (temp , False, False, True)\n",
    "        "
   ]
  },
  {
   "cell_type": "code",
   "execution_count": 53,
   "id": "green-failing",
   "metadata": {},
   "outputs": [],
   "source": [
    "def get_cluster(eps, minPts, df, first_point = True, C = 0):\n",
    "       \n",
    "    #base case is if all the points have been visited\n",
    "    if len(df[df[\"visited\"] == False]) == 0:\n",
    "        return \n",
    "    #if this is a new cluster then randomly sample a new point\n",
    "    pts = df[df[\"visited\"] == False].sample(1)\n",
    "\n",
    "    tempdf, iscore, isborder, isnoise = check_core_point(pts['X'].iloc[0], pts['Y'].iloc[0], eps, minPts, df, pts.index)\n",
    "\n",
    "    if iscore:\n",
    "        print(\"core found at\")\n",
    "        #Assign cluster to point and all neighbours\n",
    "        df.at[tempdf.index, 'cluster'] = C\n",
    "        get_cluster(eps,minPts,tempdf)\n",
    "        #tempdf, iscore, isborder, isnoise = check_core_point(neighbour['X'], neighbour['Y'], eps, minPts, data, neighbour.index)\n",
    "\n",
    "    elif isborder:\n",
    "        print(\"Border found at\")\n",
    "        df.at[tempdf.index, 'cluster'] = C\n",
    "        C+=1\n",
    "        get_cluster(eps,minPts, df, C)\n",
    "\n",
    "    elif isnoise:\n",
    "        print(\"Noise found at\")\n",
    "        df.at[tempdf.index, 'cluster'] = 'N'\n",
    "        get_cluster(eps,minPts, df, C)\n",
    "    return \n",
    "        \n",
    "    "
   ]
  },
  {
   "cell_type": "code",
   "execution_count": 54,
   "id": "proof-charles",
   "metadata": {},
   "outputs": [],
   "source": [
    "data = pd.DataFrame(X, columns = [\"X\", \"Y\"] )\n",
    "data[\"visited\"] = False\n",
    "data[\"cluster\"] = None"
   ]
  },
  {
   "cell_type": "code",
   "execution_count": 69,
   "id": "medium-harassment",
   "metadata": {},
   "outputs": [],
   "source": [
    "eps = 1\n",
    "minPts = 3"
   ]
  },
  {
   "cell_type": "code",
   "execution_count": 70,
   "id": "encouraging-onion",
   "metadata": {
    "scrolled": false
   },
   "outputs": [
    {
     "ename": "NameError",
     "evalue": "name 'get_cluster' is not defined",
     "output_type": "error",
     "traceback": [
      "\u001b[1;31m---------------------------------------------------------------------------\u001b[0m",
      "\u001b[1;31mNameError\u001b[0m                                 Traceback (most recent call last)",
      "\u001b[1;32m<ipython-input-70-f7c2504dd2e4>\u001b[0m in \u001b[0;36m<module>\u001b[1;34m\u001b[0m\n\u001b[1;32m----> 1\u001b[1;33m \u001b[0mget_cluster\u001b[0m\u001b[1;33m(\u001b[0m\u001b[0meps\u001b[0m\u001b[1;33m,\u001b[0m\u001b[0mminPts\u001b[0m\u001b[1;33m,\u001b[0m \u001b[0mdata\u001b[0m\u001b[1;33m)\u001b[0m\u001b[1;33m\u001b[0m\u001b[1;33m\u001b[0m\u001b[0m\n\u001b[0m",
      "\u001b[1;31mNameError\u001b[0m: name 'get_cluster' is not defined"
     ]
    }
   ],
   "source": [
    "\n",
    "get_cluster(eps,minPts, data)\n"
   ]
  },
  {
   "cell_type": "markdown",
   "id": "special-turkey",
   "metadata": {},
   "source": [
    "# Implementation with stack"
   ]
  },
  {
   "cell_type": "code",
   "execution_count": 33,
   "id": "liberal-coalition",
   "metadata": {},
   "outputs": [],
   "source": [
    "def check_core_point(eps,minPts, df, index):\n",
    "    #get points from given index\n",
    "    x, y = df.iloc[index]['X']  ,  df.iloc[index]['Y']\n",
    "    \n",
    "    #check available points within radius\n",
    "    temp =  df[((np.abs(x - df['X']) <= eps) & (np.abs(y - df['Y']) <= eps)) & (df.index != index)]\n",
    "    \n",
    "    #check how many points are present within radius\n",
    "    if len(temp) >= minPts:\n",
    "        #return format (dataframe, is_core, is_border, is_noise)\n",
    "        return (temp.index , True, False, False)\n",
    "    \n",
    "    elif (len(temp) < minPts) and len(temp) > 0:\n",
    "        #return format (dataframe, is_core, is_border, is_noise)\n",
    "        return (temp.index , False, True, False)\n",
    "    \n",
    "    elif len(temp) == 0:\n",
    "        #return format (dataframe, is_core, is_border, is_noise)\n",
    "        return (temp.index , False, False, True)"
   ]
  },
  {
   "cell_type": "code",
   "execution_count": 73,
   "id": "frank-census",
   "metadata": {},
   "outputs": [],
   "source": [
    "def cluster_with_stack(eps, minPts, df):\n",
    "    #flag to check if loop is running for the first time\n",
    "    first_run = True\n",
    "    \n",
    "    #initiating cluster number\n",
    "    C = 0\n",
    "    #initiating stacks to maintain\n",
    "    current_stack = set()\n",
    "    unvisited = list(df.index)\n",
    "    clusters = []\n",
    "    \n",
    "    \n",
    "    while (len(unvisited) != 0):\n",
    "        print(\"Unvisited points:\", len(unvisited))\n",
    "        #identifier for first point of a cluster\n",
    "        first_point = True\n",
    "        \n",
    "        #choose a random unvisited point\n",
    "        #print(\"New first point picked\")\n",
    "        current_stack.add(random.choice(unvisited))\n",
    "        \n",
    "        while len(current_stack) != 0:\n",
    "            \n",
    "            #print(\"stack at start of loop\", current_stack)\n",
    "            #pop current point from stack\n",
    "            curr_idx = current_stack.pop()\n",
    "            #check if point is core, neighbour or border\n",
    "            neigh_indexes, iscore, isborder, isnoise = check_core_point(eps, minPts, df, curr_idx)\n",
    "            \n",
    "            #if current point is a border point a the first point of a cluster\n",
    "            if (isborder & first_point):\n",
    "                #print(\"First border point picked...running loop again\")\n",
    "                #empty the current stack\n",
    "                #current_stack.clear()\n",
    "                #break the loop and try again with a new point\n",
    "                isnoise, isborder = (True, False)\n",
    "                \n",
    "            \n",
    "            #remove point from unvisited list\n",
    "            unvisited.remove(curr_idx)\n",
    "            \n",
    "            \n",
    "            neigh_indexes = set(neigh_indexes) & set(unvisited)\n",
    "            #print(\"Neighbours\", neigh_indexes)\n",
    "            if iscore:\n",
    "                first_point = False\n",
    "                print(\"Was core\")\n",
    "                clusters.append((curr_idx,C))\n",
    "                print(\"Clusters\", clusters)\n",
    "                current_stack.update(neigh_indexes)\n",
    "\n",
    "            elif isborder:\n",
    "                print(\"was border\")\n",
    "                clusters.append((curr_idx,C))\n",
    "                \n",
    "                continue\n",
    "\n",
    "            elif isnoise:\n",
    "    \n",
    "                print(\"was noise\")\n",
    "                clusters.append((curr_idx,'N'))\n",
    "                \n",
    "                continue\n",
    "                \n",
    "        #Cancel parameter\n",
    "        first_run = False\n",
    "        \n",
    "        if not first_point:\n",
    "            #increment cluster number\n",
    "            C+=1\n",
    "        \n",
    "    return clusters\n",
    "            "
   ]
  },
  {
   "cell_type": "code",
   "execution_count": 77,
   "id": "powered-million",
   "metadata": {},
   "outputs": [],
   "source": [
    "eps = 0.5\n",
    "minPts = 3"
   ]
  },
  {
   "cell_type": "code",
   "execution_count": 78,
   "id": "violent-european",
   "metadata": {},
   "outputs": [
    {
     "name": "stdout",
     "output_type": "stream",
     "text": [
      "Unvisited points: 100\n",
      "was noise\n",
      "Unvisited points: 99\n",
      "Was core\n",
      "Clusters [(4, 'N'), (98, 0)]\n",
      "Was core\n",
      "Clusters [(4, 'N'), (98, 0), (50, 0)]\n",
      "was border\n",
      "Was core\n",
      "Clusters [(4, 'N'), (98, 0), (50, 0), (5, 0), (9, 0)]\n",
      "Was core\n",
      "Clusters [(4, 'N'), (98, 0), (50, 0), (5, 0), (9, 0), (75, 0)]\n",
      "Was core\n",
      "Clusters [(4, 'N'), (98, 0), (50, 0), (5, 0), (9, 0), (75, 0), (13, 0)]\n",
      "Was core\n",
      "Clusters [(4, 'N'), (98, 0), (50, 0), (5, 0), (9, 0), (75, 0), (13, 0), (18, 0)]\n",
      "Was core\n",
      "Clusters [(4, 'N'), (98, 0), (50, 0), (5, 0), (9, 0), (75, 0), (13, 0), (18, 0), (82, 0)]\n",
      "Was core\n",
      "Clusters [(4, 'N'), (98, 0), (50, 0), (5, 0), (9, 0), (75, 0), (13, 0), (18, 0), (82, 0), (20, 0)]\n",
      "Was core\n",
      "Clusters [(4, 'N'), (98, 0), (50, 0), (5, 0), (9, 0), (75, 0), (13, 0), (18, 0), (82, 0), (20, 0), (23, 0)]\n",
      "Was core\n",
      "Clusters [(4, 'N'), (98, 0), (50, 0), (5, 0), (9, 0), (75, 0), (13, 0), (18, 0), (82, 0), (20, 0), (23, 0), (89, 0)]\n",
      "Was core\n",
      "Clusters [(4, 'N'), (98, 0), (50, 0), (5, 0), (9, 0), (75, 0), (13, 0), (18, 0), (82, 0), (20, 0), (23, 0), (89, 0), (60, 0)]\n",
      "Was core\n",
      "Clusters [(4, 'N'), (98, 0), (50, 0), (5, 0), (9, 0), (75, 0), (13, 0), (18, 0), (82, 0), (20, 0), (23, 0), (89, 0), (60, 0), (61, 0)]\n",
      "Was core\n",
      "Clusters [(4, 'N'), (98, 0), (50, 0), (5, 0), (9, 0), (75, 0), (13, 0), (18, 0), (82, 0), (20, 0), (23, 0), (89, 0), (60, 0), (61, 0), (95, 0)]\n",
      "Was core\n",
      "Clusters [(4, 'N'), (98, 0), (50, 0), (5, 0), (9, 0), (75, 0), (13, 0), (18, 0), (82, 0), (20, 0), (23, 0), (89, 0), (60, 0), (61, 0), (95, 0), (1, 0)]\n",
      "Was core\n",
      "Clusters [(4, 'N'), (98, 0), (50, 0), (5, 0), (9, 0), (75, 0), (13, 0), (18, 0), (82, 0), (20, 0), (23, 0), (89, 0), (60, 0), (61, 0), (95, 0), (1, 0), (10, 0)]\n",
      "Was core\n",
      "Clusters [(4, 'N'), (98, 0), (50, 0), (5, 0), (9, 0), (75, 0), (13, 0), (18, 0), (82, 0), (20, 0), (23, 0), (89, 0), (60, 0), (61, 0), (95, 0), (1, 0), (10, 0), (15, 0)]\n",
      "Was core\n",
      "Clusters [(4, 'N'), (98, 0), (50, 0), (5, 0), (9, 0), (75, 0), (13, 0), (18, 0), (82, 0), (20, 0), (23, 0), (89, 0), (60, 0), (61, 0), (95, 0), (1, 0), (10, 0), (15, 0), (51, 0)]\n",
      "was border\n",
      "was border\n",
      "was border\n",
      "Unvisited points: 78\n",
      "was noise\n",
      "Unvisited points: 77\n",
      "Was core\n",
      "Clusters [(4, 'N'), (98, 0), (50, 0), (5, 0), (9, 0), (75, 0), (13, 0), (18, 0), (82, 0), (20, 0), (23, 0), (89, 0), (60, 0), (61, 0), (95, 0), (1, 0), (10, 0), (15, 0), (51, 0), (54, 0), (24, 0), (68, 0), (73, 'N'), (21, 1)]\n",
      "Was core\n",
      "Clusters [(4, 'N'), (98, 0), (50, 0), (5, 0), (9, 0), (75, 0), (13, 0), (18, 0), (82, 0), (20, 0), (23, 0), (89, 0), (60, 0), (61, 0), (95, 0), (1, 0), (10, 0), (15, 0), (51, 0), (54, 0), (24, 0), (68, 0), (73, 'N'), (21, 1), (27, 1)]\n",
      "Was core\n",
      "Clusters [(4, 'N'), (98, 0), (50, 0), (5, 0), (9, 0), (75, 0), (13, 0), (18, 0), (82, 0), (20, 0), (23, 0), (89, 0), (60, 0), (61, 0), (95, 0), (1, 0), (10, 0), (15, 0), (51, 0), (54, 0), (24, 0), (68, 0), (73, 'N'), (21, 1), (27, 1), (30, 1)]\n",
      "Was core\n",
      "Clusters [(4, 'N'), (98, 0), (50, 0), (5, 0), (9, 0), (75, 0), (13, 0), (18, 0), (82, 0), (20, 0), (23, 0), (89, 0), (60, 0), (61, 0), (95, 0), (1, 0), (10, 0), (15, 0), (51, 0), (54, 0), (24, 0), (68, 0), (73, 'N'), (21, 1), (27, 1), (30, 1), (79, 1)]\n",
      "was border\n",
      "Was core\n",
      "Clusters [(4, 'N'), (98, 0), (50, 0), (5, 0), (9, 0), (75, 0), (13, 0), (18, 0), (82, 0), (20, 0), (23, 0), (89, 0), (60, 0), (61, 0), (95, 0), (1, 0), (10, 0), (15, 0), (51, 0), (54, 0), (24, 0), (68, 0), (73, 'N'), (21, 1), (27, 1), (30, 1), (79, 1), (48, 1), (85, 1)]\n",
      "Was core\n",
      "Clusters [(4, 'N'), (98, 0), (50, 0), (5, 0), (9, 0), (75, 0), (13, 0), (18, 0), (82, 0), (20, 0), (23, 0), (89, 0), (60, 0), (61, 0), (95, 0), (1, 0), (10, 0), (15, 0), (51, 0), (54, 0), (24, 0), (68, 0), (73, 'N'), (21, 1), (27, 1), (30, 1), (79, 1), (48, 1), (85, 1), (57, 1)]\n",
      "Was core\n",
      "Clusters [(4, 'N'), (98, 0), (50, 0), (5, 0), (9, 0), (75, 0), (13, 0), (18, 0), (82, 0), (20, 0), (23, 0), (89, 0), (60, 0), (61, 0), (95, 0), (1, 0), (10, 0), (15, 0), (51, 0), (54, 0), (24, 0), (68, 0), (73, 'N'), (21, 1), (27, 1), (30, 1), (79, 1), (48, 1), (85, 1), (57, 1), (11, 1)]\n",
      "Was core\n",
      "Clusters [(4, 'N'), (98, 0), (50, 0), (5, 0), (9, 0), (75, 0), (13, 0), (18, 0), (82, 0), (20, 0), (23, 0), (89, 0), (60, 0), (61, 0), (95, 0), (1, 0), (10, 0), (15, 0), (51, 0), (54, 0), (24, 0), (68, 0), (73, 'N'), (21, 1), (27, 1), (30, 1), (79, 1), (48, 1), (85, 1), (57, 1), (11, 1), (29, 1)]\n",
      "Was core\n",
      "Clusters [(4, 'N'), (98, 0), (50, 0), (5, 0), (9, 0), (75, 0), (13, 0), (18, 0), (82, 0), (20, 0), (23, 0), (89, 0), (60, 0), (61, 0), (95, 0), (1, 0), (10, 0), (15, 0), (51, 0), (54, 0), (24, 0), (68, 0), (73, 'N'), (21, 1), (27, 1), (30, 1), (79, 1), (48, 1), (85, 1), (57, 1), (11, 1), (29, 1), (0, 1)]\n",
      "Was core\n",
      "Clusters [(4, 'N'), (98, 0), (50, 0), (5, 0), (9, 0), (75, 0), (13, 0), (18, 0), (82, 0), (20, 0), (23, 0), (89, 0), (60, 0), (61, 0), (95, 0), (1, 0), (10, 0), (15, 0), (51, 0), (54, 0), (24, 0), (68, 0), (73, 'N'), (21, 1), (27, 1), (30, 1), (79, 1), (48, 1), (85, 1), (57, 1), (11, 1), (29, 1), (0, 1), (84, 1)]\n",
      "was border\n",
      "was border\n",
      "was border\n",
      "Unvisited points: 63\n",
      "was noise\n",
      "Unvisited points: 62\n",
      "was noise\n",
      "Unvisited points: 61\n",
      "was noise\n",
      "Unvisited points: 60\n",
      "was noise\n",
      "Unvisited points: 59\n",
      "Was core\n",
      "Clusters [(4, 'N'), (98, 0), (50, 0), (5, 0), (9, 0), (75, 0), (13, 0), (18, 0), (82, 0), (20, 0), (23, 0), (89, 0), (60, 0), (61, 0), (95, 0), (1, 0), (10, 0), (15, 0), (51, 0), (54, 0), (24, 0), (68, 0), (73, 'N'), (21, 1), (27, 1), (30, 1), (79, 1), (48, 1), (85, 1), (57, 1), (11, 1), (29, 1), (0, 1), (84, 1), (88, 1), (47, 1), (16, 1), (35, 'N'), (19, 'N'), (17, 'N'), (14, 'N'), (33, 2)]\n",
      "was border\n",
      "was border\n",
      "Unvisited points: 56\n",
      "Was core\n",
      "Clusters [(4, 'N'), (98, 0), (50, 0), (5, 0), (9, 0), (75, 0), (13, 0), (18, 0), (82, 0), (20, 0), (23, 0), (89, 0), (60, 0), (61, 0), (95, 0), (1, 0), (10, 0), (15, 0), (51, 0), (54, 0), (24, 0), (68, 0), (73, 'N'), (21, 1), (27, 1), (30, 1), (79, 1), (48, 1), (85, 1), (57, 1), (11, 1), (29, 1), (0, 1), (84, 1), (88, 1), (47, 1), (16, 1), (35, 'N'), (19, 'N'), (17, 'N'), (14, 'N'), (33, 2), (36, 2), (93, 2), (8, 3)]\n",
      "was border\n",
      "Was core\n",
      "Clusters [(4, 'N'), (98, 0), (50, 0), (5, 0), (9, 0), (75, 0), (13, 0), (18, 0), (82, 0), (20, 0), (23, 0), (89, 0), (60, 0), (61, 0), (95, 0), (1, 0), (10, 0), (15, 0), (51, 0), (54, 0), (24, 0), (68, 0), (73, 'N'), (21, 1), (27, 1), (30, 1), (79, 1), (48, 1), (85, 1), (57, 1), (11, 1), (29, 1), (0, 1), (84, 1), (88, 1), (47, 1), (16, 1), (35, 'N'), (19, 'N'), (17, 'N'), (14, 'N'), (33, 2), (36, 2), (93, 2), (8, 3), (65, 3), (83, 3)]\n",
      "Was core\n",
      "Clusters [(4, 'N'), (98, 0), (50, 0), (5, 0), (9, 0), (75, 0), (13, 0), (18, 0), (82, 0), (20, 0), (23, 0), (89, 0), (60, 0), (61, 0), (95, 0), (1, 0), (10, 0), (15, 0), (51, 0), (54, 0), (24, 0), (68, 0), (73, 'N'), (21, 1), (27, 1), (30, 1), (79, 1), (48, 1), (85, 1), (57, 1), (11, 1), (29, 1), (0, 1), (84, 1), (88, 1), (47, 1), (16, 1), (35, 'N'), (19, 'N'), (17, 'N'), (14, 'N'), (33, 2), (36, 2), (93, 2), (8, 3), (65, 3), (83, 3), (72, 3)]\n",
      "Was core\n",
      "Clusters [(4, 'N'), (98, 0), (50, 0), (5, 0), (9, 0), (75, 0), (13, 0), (18, 0), (82, 0), (20, 0), (23, 0), (89, 0), (60, 0), (61, 0), (95, 0), (1, 0), (10, 0), (15, 0), (51, 0), (54, 0), (24, 0), (68, 0), (73, 'N'), (21, 1), (27, 1), (30, 1), (79, 1), (48, 1), (85, 1), (57, 1), (11, 1), (29, 1), (0, 1), (84, 1), (88, 1), (47, 1), (16, 1), (35, 'N'), (19, 'N'), (17, 'N'), (14, 'N'), (33, 2), (36, 2), (93, 2), (8, 3), (65, 3), (83, 3), (72, 3), (26, 3)]\n",
      "Unvisited points: 51\n",
      "Was core\n",
      "Clusters [(4, 'N'), (98, 0), (50, 0), (5, 0), (9, 0), (75, 0), (13, 0), (18, 0), (82, 0), (20, 0), (23, 0), (89, 0), (60, 0), (61, 0), (95, 0), (1, 0), (10, 0), (15, 0), (51, 0), (54, 0), (24, 0), (68, 0), (73, 'N'), (21, 1), (27, 1), (30, 1), (79, 1), (48, 1), (85, 1), (57, 1), (11, 1), (29, 1), (0, 1), (84, 1), (88, 1), (47, 1), (16, 1), (35, 'N'), (19, 'N'), (17, 'N'), (14, 'N'), (33, 2), (36, 2), (93, 2), (8, 3), (65, 3), (83, 3), (72, 3), (26, 3), (70, 4)]\n",
      "Was core\n",
      "Clusters [(4, 'N'), (98, 0), (50, 0), (5, 0), (9, 0), (75, 0), (13, 0), (18, 0), (82, 0), (20, 0), (23, 0), (89, 0), (60, 0), (61, 0), (95, 0), (1, 0), (10, 0), (15, 0), (51, 0), (54, 0), (24, 0), (68, 0), (73, 'N'), (21, 1), (27, 1), (30, 1), (79, 1), (48, 1), (85, 1), (57, 1), (11, 1), (29, 1), (0, 1), (84, 1), (88, 1), (47, 1), (16, 1), (35, 'N'), (19, 'N'), (17, 'N'), (14, 'N'), (33, 2), (36, 2), (93, 2), (8, 3), (65, 3), (83, 3), (72, 3), (26, 3), (70, 4), (39, 4)]\n",
      "Was core\n",
      "Clusters [(4, 'N'), (98, 0), (50, 0), (5, 0), (9, 0), (75, 0), (13, 0), (18, 0), (82, 0), (20, 0), (23, 0), (89, 0), (60, 0), (61, 0), (95, 0), (1, 0), (10, 0), (15, 0), (51, 0), (54, 0), (24, 0), (68, 0), (73, 'N'), (21, 1), (27, 1), (30, 1), (79, 1), (48, 1), (85, 1), (57, 1), (11, 1), (29, 1), (0, 1), (84, 1), (88, 1), (47, 1), (16, 1), (35, 'N'), (19, 'N'), (17, 'N'), (14, 'N'), (33, 2), (36, 2), (93, 2), (8, 3), (65, 3), (83, 3), (72, 3), (26, 3), (70, 4), (39, 4), (25, 4)]\n",
      "Was core\n",
      "Clusters [(4, 'N'), (98, 0), (50, 0), (5, 0), (9, 0), (75, 0), (13, 0), (18, 0), (82, 0), (20, 0), (23, 0), (89, 0), (60, 0), (61, 0), (95, 0), (1, 0), (10, 0), (15, 0), (51, 0), (54, 0), (24, 0), (68, 0), (73, 'N'), (21, 1), (27, 1), (30, 1), (79, 1), (48, 1), (85, 1), (57, 1), (11, 1), (29, 1), (0, 1), (84, 1), (88, 1), (47, 1), (16, 1), (35, 'N'), (19, 'N'), (17, 'N'), (14, 'N'), (33, 2), (36, 2), (93, 2), (8, 3), (65, 3), (83, 3), (72, 3), (26, 3), (70, 4), (39, 4), (25, 4), (74, 4)]\n",
      "Was core\n",
      "Clusters [(4, 'N'), (98, 0), (50, 0), (5, 0), (9, 0), (75, 0), (13, 0), (18, 0), (82, 0), (20, 0), (23, 0), (89, 0), (60, 0), (61, 0), (95, 0), (1, 0), (10, 0), (15, 0), (51, 0), (54, 0), (24, 0), (68, 0), (73, 'N'), (21, 1), (27, 1), (30, 1), (79, 1), (48, 1), (85, 1), (57, 1), (11, 1), (29, 1), (0, 1), (84, 1), (88, 1), (47, 1), (16, 1), (35, 'N'), (19, 'N'), (17, 'N'), (14, 'N'), (33, 2), (36, 2), (93, 2), (8, 3), (65, 3), (83, 3), (72, 3), (26, 3), (70, 4), (39, 4), (25, 4), (74, 4), (43, 4)]\n",
      "Was core\n",
      "Clusters [(4, 'N'), (98, 0), (50, 0), (5, 0), (9, 0), (75, 0), (13, 0), (18, 0), (82, 0), (20, 0), (23, 0), (89, 0), (60, 0), (61, 0), (95, 0), (1, 0), (10, 0), (15, 0), (51, 0), (54, 0), (24, 0), (68, 0), (73, 'N'), (21, 1), (27, 1), (30, 1), (79, 1), (48, 1), (85, 1), (57, 1), (11, 1), (29, 1), (0, 1), (84, 1), (88, 1), (47, 1), (16, 1), (35, 'N'), (19, 'N'), (17, 'N'), (14, 'N'), (33, 2), (36, 2), (93, 2), (8, 3), (65, 3), (83, 3), (72, 3), (26, 3), (70, 4), (39, 4), (25, 4), (74, 4), (43, 4), (44, 4)]\n",
      "was border\n",
      "Was core\n",
      "Clusters [(4, 'N'), (98, 0), (50, 0), (5, 0), (9, 0), (75, 0), (13, 0), (18, 0), (82, 0), (20, 0), (23, 0), (89, 0), (60, 0), (61, 0), (95, 0), (1, 0), (10, 0), (15, 0), (51, 0), (54, 0), (24, 0), (68, 0), (73, 'N'), (21, 1), (27, 1), (30, 1), (79, 1), (48, 1), (85, 1), (57, 1), (11, 1), (29, 1), (0, 1), (84, 1), (88, 1), (47, 1), (16, 1), (35, 'N'), (19, 'N'), (17, 'N'), (14, 'N'), (33, 2), (36, 2), (93, 2), (8, 3), (65, 3), (83, 3), (72, 3), (26, 3), (70, 4), (39, 4), (25, 4), (74, 4), (43, 4), (44, 4), (78, 4), (92, 4)]\n",
      "Was core\n",
      "Clusters [(4, 'N'), (98, 0), (50, 0), (5, 0), (9, 0), (75, 0), (13, 0), (18, 0), (82, 0), (20, 0), (23, 0), (89, 0), (60, 0), (61, 0), (95, 0), (1, 0), (10, 0), (15, 0), (51, 0), (54, 0), (24, 0), (68, 0), (73, 'N'), (21, 1), (27, 1), (30, 1), (79, 1), (48, 1), (85, 1), (57, 1), (11, 1), (29, 1), (0, 1), (84, 1), (88, 1), (47, 1), (16, 1), (35, 'N'), (19, 'N'), (17, 'N'), (14, 'N'), (33, 2), (36, 2), (93, 2), (8, 3), (65, 3), (83, 3), (72, 3), (26, 3), (70, 4), (39, 4), (25, 4), (74, 4), (43, 4), (44, 4), (78, 4), (92, 4), (49, 4)]\n",
      "Was core\n",
      "Clusters [(4, 'N'), (98, 0), (50, 0), (5, 0), (9, 0), (75, 0), (13, 0), (18, 0), (82, 0), (20, 0), (23, 0), (89, 0), (60, 0), (61, 0), (95, 0), (1, 0), (10, 0), (15, 0), (51, 0), (54, 0), (24, 0), (68, 0), (73, 'N'), (21, 1), (27, 1), (30, 1), (79, 1), (48, 1), (85, 1), (57, 1), (11, 1), (29, 1), (0, 1), (84, 1), (88, 1), (47, 1), (16, 1), (35, 'N'), (19, 'N'), (17, 'N'), (14, 'N'), (33, 2), (36, 2), (93, 2), (8, 3), (65, 3), (83, 3), (72, 3), (26, 3), (70, 4), (39, 4), (25, 4), (74, 4), (43, 4), (44, 4), (78, 4), (92, 4), (49, 4), (55, 4)]\n",
      "Was core\n",
      "Clusters [(4, 'N'), (98, 0), (50, 0), (5, 0), (9, 0), (75, 0), (13, 0), (18, 0), (82, 0), (20, 0), (23, 0), (89, 0), (60, 0), (61, 0), (95, 0), (1, 0), (10, 0), (15, 0), (51, 0), (54, 0), (24, 0), (68, 0), (73, 'N'), (21, 1), (27, 1), (30, 1), (79, 1), (48, 1), (85, 1), (57, 1), (11, 1), (29, 1), (0, 1), (84, 1), (88, 1), (47, 1), (16, 1), (35, 'N'), (19, 'N'), (17, 'N'), (14, 'N'), (33, 2), (36, 2), (93, 2), (8, 3), (65, 3), (83, 3), (72, 3), (26, 3), (70, 4), (39, 4), (25, 4), (74, 4), (43, 4), (44, 4), (78, 4), (92, 4), (49, 4), (55, 4), (59, 4)]\n",
      "Was core\n",
      "Clusters [(4, 'N'), (98, 0), (50, 0), (5, 0), (9, 0), (75, 0), (13, 0), (18, 0), (82, 0), (20, 0), (23, 0), (89, 0), (60, 0), (61, 0), (95, 0), (1, 0), (10, 0), (15, 0), (51, 0), (54, 0), (24, 0), (68, 0), (73, 'N'), (21, 1), (27, 1), (30, 1), (79, 1), (48, 1), (85, 1), (57, 1), (11, 1), (29, 1), (0, 1), (84, 1), (88, 1), (47, 1), (16, 1), (35, 'N'), (19, 'N'), (17, 'N'), (14, 'N'), (33, 2), (36, 2), (93, 2), (8, 3), (65, 3), (83, 3), (72, 3), (26, 3), (70, 4), (39, 4), (25, 4), (74, 4), (43, 4), (44, 4), (78, 4), (92, 4), (49, 4), (55, 4), (59, 4), (28, 4)]\n",
      "was border\n",
      "Was core\n",
      "Clusters [(4, 'N'), (98, 0), (50, 0), (5, 0), (9, 0), (75, 0), (13, 0), (18, 0), (82, 0), (20, 0), (23, 0), (89, 0), (60, 0), (61, 0), (95, 0), (1, 0), (10, 0), (15, 0), (51, 0), (54, 0), (24, 0), (68, 0), (73, 'N'), (21, 1), (27, 1), (30, 1), (79, 1), (48, 1), (85, 1), (57, 1), (11, 1), (29, 1), (0, 1), (84, 1), (88, 1), (47, 1), (16, 1), (35, 'N'), (19, 'N'), (17, 'N'), (14, 'N'), (33, 2), (36, 2), (93, 2), (8, 3), (65, 3), (83, 3), (72, 3), (26, 3), (70, 4), (39, 4), (25, 4), (74, 4), (43, 4), (44, 4), (78, 4), (92, 4), (49, 4), (55, 4), (59, 4), (28, 4), (31, 4), (3, 4)]\n",
      "Was core\n",
      "Clusters [(4, 'N'), (98, 0), (50, 0), (5, 0), (9, 0), (75, 0), (13, 0), (18, 0), (82, 0), (20, 0), (23, 0), (89, 0), (60, 0), (61, 0), (95, 0), (1, 0), (10, 0), (15, 0), (51, 0), (54, 0), (24, 0), (68, 0), (73, 'N'), (21, 1), (27, 1), (30, 1), (79, 1), (48, 1), (85, 1), (57, 1), (11, 1), (29, 1), (0, 1), (84, 1), (88, 1), (47, 1), (16, 1), (35, 'N'), (19, 'N'), (17, 'N'), (14, 'N'), (33, 2), (36, 2), (93, 2), (8, 3), (65, 3), (83, 3), (72, 3), (26, 3), (70, 4), (39, 4), (25, 4), (74, 4), (43, 4), (44, 4), (78, 4), (92, 4), (49, 4), (55, 4), (59, 4), (28, 4), (31, 4), (3, 4), (99, 4)]\n",
      "was border\n",
      "Was core\n",
      "Clusters [(4, 'N'), (98, 0), (50, 0), (5, 0), (9, 0), (75, 0), (13, 0), (18, 0), (82, 0), (20, 0), (23, 0), (89, 0), (60, 0), (61, 0), (95, 0), (1, 0), (10, 0), (15, 0), (51, 0), (54, 0), (24, 0), (68, 0), (73, 'N'), (21, 1), (27, 1), (30, 1), (79, 1), (48, 1), (85, 1), (57, 1), (11, 1), (29, 1), (0, 1), (84, 1), (88, 1), (47, 1), (16, 1), (35, 'N'), (19, 'N'), (17, 'N'), (14, 'N'), (33, 2), (36, 2), (93, 2), (8, 3), (65, 3), (83, 3), (72, 3), (26, 3), (70, 4), (39, 4), (25, 4), (74, 4), (43, 4), (44, 4), (78, 4), (92, 4), (49, 4), (55, 4), (59, 4), (28, 4), (31, 4), (3, 4), (99, 4), (69, 4), (6, 4)]\n",
      "Was core\n",
      "Clusters [(4, 'N'), (98, 0), (50, 0), (5, 0), (9, 0), (75, 0), (13, 0), (18, 0), (82, 0), (20, 0), (23, 0), (89, 0), (60, 0), (61, 0), (95, 0), (1, 0), (10, 0), (15, 0), (51, 0), (54, 0), (24, 0), (68, 0), (73, 'N'), (21, 1), (27, 1), (30, 1), (79, 1), (48, 1), (85, 1), (57, 1), (11, 1), (29, 1), (0, 1), (84, 1), (88, 1), (47, 1), (16, 1), (35, 'N'), (19, 'N'), (17, 'N'), (14, 'N'), (33, 2), (36, 2), (93, 2), (8, 3), (65, 3), (83, 3), (72, 3), (26, 3), (70, 4), (39, 4), (25, 4), (74, 4), (43, 4), (44, 4), (78, 4), (92, 4), (49, 4), (55, 4), (59, 4), (28, 4), (31, 4), (3, 4), (99, 4), (69, 4), (6, 4), (7, 4)]\n",
      "was border\n",
      "was border\n",
      "was border\n",
      "Unvisited points: 30\n",
      "was noise\n",
      "Unvisited points: 29\n",
      "was noise\n",
      "Unvisited points: 28\n",
      "was noise\n",
      "Unvisited points: 27\n",
      "was noise\n",
      "Unvisited points: 26\n",
      "was noise\n",
      "Unvisited points: 25\n",
      "was noise\n",
      "Unvisited points: 24\n",
      "was noise\n",
      "Unvisited points: 23\n",
      "was noise\n",
      "Unvisited points: 22\n",
      "Was core\n",
      "Clusters [(4, 'N'), (98, 0), (50, 0), (5, 0), (9, 0), (75, 0), (13, 0), (18, 0), (82, 0), (20, 0), (23, 0), (89, 0), (60, 0), (61, 0), (95, 0), (1, 0), (10, 0), (15, 0), (51, 0), (54, 0), (24, 0), (68, 0), (73, 'N'), (21, 1), (27, 1), (30, 1), (79, 1), (48, 1), (85, 1), (57, 1), (11, 1), (29, 1), (0, 1), (84, 1), (88, 1), (47, 1), (16, 1), (35, 'N'), (19, 'N'), (17, 'N'), (14, 'N'), (33, 2), (36, 2), (93, 2), (8, 3), (65, 3), (83, 3), (72, 3), (26, 3), (70, 4), (39, 4), (25, 4), (74, 4), (43, 4), (44, 4), (78, 4), (92, 4), (49, 4), (55, 4), (59, 4), (28, 4), (31, 4), (3, 4), (99, 4), (69, 4), (6, 4), (7, 4), (40, 4), (37, 4), (42, 4), (58, 'N'), (46, 'N'), (97, 'N'), (96, 'N'), (38, 'N'), (2, 'N'), (94, 'N'), (86, 'N'), (34, 5)]\n",
      "was border\n",
      "was border\n",
      "Unvisited points: 19\n",
      "was noise\n",
      "Unvisited points: 18\n",
      "was noise\n",
      "Unvisited points: 17\n",
      "was noise\n",
      "Unvisited points: 16\n",
      "was noise\n",
      "Unvisited points: 15\n",
      "was noise\n",
      "Unvisited points: 14\n",
      "was noise\n",
      "Unvisited points: 13\n",
      "was noise\n",
      "Unvisited points: 12\n",
      "was noise\n",
      "Unvisited points: 11\n",
      "was noise\n",
      "Unvisited points: 10\n",
      "was noise\n",
      "Unvisited points: 9\n",
      "was noise\n",
      "Unvisited points: 8\n",
      "was noise\n",
      "Unvisited points: 7\n",
      "was noise\n",
      "Unvisited points: 6\n",
      "was noise\n",
      "Unvisited points: 5\n",
      "was noise\n",
      "Unvisited points: 4\n",
      "was noise\n",
      "Unvisited points: 3\n",
      "was noise\n",
      "Unvisited points: 2\n",
      "was noise\n",
      "Unvisited points: 1\n",
      "was noise\n"
     ]
    }
   ],
   "source": [
    "data = pd.DataFrame(X, columns = [\"X\", \"Y\"] )\n",
    "clustered = cluster_with_stack(eps, minPts, data)"
   ]
  },
  {
   "cell_type": "code",
   "execution_count": 82,
   "id": "electrical-showcase",
   "metadata": {},
   "outputs": [],
   "source": [
    "idx , cluster = list(zip(*clustered))"
   ]
  },
  {
   "cell_type": "code",
   "execution_count": null,
   "id": "catholic-intervention",
   "metadata": {},
   "outputs": [],
   "source": []
  }
 ],
 "metadata": {
  "kernelspec": {
   "display_name": "Python 3",
   "language": "python",
   "name": "python3"
  },
  "language_info": {
   "codemirror_mode": {
    "name": "ipython",
    "version": 3
   },
   "file_extension": ".py",
   "mimetype": "text/x-python",
   "name": "python",
   "nbconvert_exporter": "python",
   "pygments_lexer": "ipython3",
   "version": "3.8.8"
  }
 },
 "nbformat": 4,
 "nbformat_minor": 5
}
